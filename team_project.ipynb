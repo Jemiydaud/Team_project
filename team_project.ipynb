{
  "nbformat": 4,
  "nbformat_minor": 0,
  "metadata": {
    "colab": {
      "name": "team_project.ipynb",
      "provenance": [],
      "authorship_tag": "ABX9TyMd+IiCnhKuEUCO+Gw1p+4B",
      "include_colab_link": true
    },
    "kernelspec": {
      "name": "python3",
      "display_name": "Python 3"
    },
    "language_info": {
      "name": "python"
    }
  },
  "cells": [
    {
      "cell_type": "markdown",
      "metadata": {
        "id": "view-in-github",
        "colab_type": "text"
      },
      "source": [
        "<a href=\"https://colab.research.google.com/github/Jemiydaud/Team_project/blob/main/team_project.ipynb\" target=\"_parent\"><img src=\"https://colab.research.google.com/assets/colab-badge.svg\" alt=\"Open In Colab\"/></a>"
      ]
    },
    {
      "cell_type": "code",
      "execution_count": 2,
      "metadata": {
        "colab": {
          "base_uri": "https://localhost:8080/"
        },
        "id": "DW58NGK15-RS",
        "outputId": "f5f8d1f1-f34d-43b0-c036-e17f43cdf447"
      },
      "outputs": [
        {
          "output_type": "stream",
          "name": "stdout",
          "text": [
            "5\n"
          ]
        }
      ],
      "source": [
        "#this is the least number that can be chosen\n",
        "minimun_number = 0\n",
        "\n",
        "#this is the maximum number that can be chosen\n",
        "maximum_number = 100\n",
        "\n",
        "#this is the player's random number\n",
        "chosen_number = 5\n",
        "\n",
        "print (chosen_number)"
      ]
    }
  ]
}